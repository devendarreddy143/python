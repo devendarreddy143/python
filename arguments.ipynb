{
 "cells": [
  {
   "cell_type": "code",
   "execution_count": null,
   "id": "e81ffc79-981d-440f-aa62-f4375a30c85f",
   "metadata": {},
   "outputs": [],
   "source": [
    "\"\"\" there are 4 types of arguments\n",
    "function with no arguments \"\"\"\n",
    "def even_num():\n",
    "    ib=int(input('enter lower bound values:'))\n",
    "    ub=int(input('enter upper bound values:'))\n",
    "    for i in range (ib,ub+1):\n",
    "        if i%2==0:\n",
    "            print(i)"
   ]
  },
  {
   "cell_type": "code",
   "execution_count": null,
   "id": "65be2ee4-a3d8-4e95-b36d-e2c2fa37fbf8",
   "metadata": {},
   "outputs": [],
   "source": [
    "even_num()"
   ]
  },
  {
   "cell_type": "code",
   "execution_count": null,
   "id": "359900d8-0214-4014-8c1b-19a1879035dd",
   "metadata": {},
   "outputs": [],
   "source": [
    "\n",
    "#1)positional argument\n",
    "\n",
    "def greet(msg,name):\n",
    "    print('hello',msg,name)"
   ]
  },
  {
   "cell_type": "code",
   "execution_count": null,
   "id": "9c2d18c5-d895-4f2c-88c3-d46183b050c0",
   "metadata": {},
   "outputs": [],
   "source": [
    "#call the function with arguments\n",
    "greet('good morning','chinnu')"
   ]
  },
  {
   "cell_type": "code",
   "execution_count": null,
   "id": "f71a370f-b1e4-4b28-8fac-ab53cb6a1e3d",
   "metadata": {},
   "outputs": [],
   "source": [
    "# we pass only one arguments\n",
    "\"\"\"greet('chinnu')\"\"\""
   ]
  },
  {
   "cell_type": "code",
   "execution_count": null,
   "id": "26863d96-b966-4ffe-a0e8-531dd511b310",
   "metadata": {},
   "outputs": [],
   "source": [
    "# 2) default arguments \n",
    "\"\"\" we can provide default value to an argument by using assignment operator(=).\"\"\"\n",
    "def greet(name,msg='good morning'):\n",
    "    print('hello',name,msg)"
   ]
  },
  {
   "cell_type": "code",
   "execution_count": null,
   "id": "e0457368-8963-4684-aecd-183d6fd2fefc",
   "metadata": {},
   "outputs": [],
   "source": [
    "greet('chinnu','good night')"
   ]
  },
  {
   "cell_type": "code",
   "execution_count": null,
   "id": "4f5a7c04-0b4b-4439-9092-01153a490183",
   "metadata": {},
   "outputs": [],
   "source": [
    "# function with no arguments \n",
    "greet('chinnu')"
   ]
  },
  {
   "cell_type": "code",
   "execution_count": null,
   "id": "ac4d68dd-052d-4385-ab6d-d3f40929b9de",
   "metadata": {},
   "outputs": [],
   "source": [
    "# keyword arguments \n",
    "def greet(name,msg):\n",
    "    print('hello',name,msg)"
   ]
  },
  {
   "cell_type": "code",
   "execution_count": null,
   "id": "1051f517-ef3b-42d8-bc3f-abece8092925",
   "metadata": {},
   "outputs": [],
   "source": [
    "# call the function with arguments\n",
    "greet(msg='good morning',name='nani')"
   ]
  },
  {
   "cell_type": "code",
   "execution_count": null,
   "id": "afcfedf2-a0fe-4d40-92f7-4dc6ccb5e2b6",
   "metadata": {},
   "outputs": [],
   "source": [
    "#examples\n",
    "print(4,5,6)\n",
    "print(1,2,3, sep=\",\")"
   ]
  },
  {
   "cell_type": "code",
   "execution_count": null,
   "id": "d059d5f7-2361-4303-897e-e91dada4073c",
   "metadata": {},
   "outputs": [],
   "source": [
    "# 4) arbitary arguments\n",
    "\"\"\"Arbitrary arguments are useful because they make functions more flexible and reusable.\n",
    "You can use the same function with different inputs to achieve different results.\"\"\"\n",
    "\n",
    "def greet(*names):\n",
    "    for name in names:\n",
    "        print(\"hello{}\", format(name))"
   ]
  },
  {
   "cell_type": "code",
   "execution_count": null,
   "id": "7822f186-6150-4b23-99f2-53295e3f2c99",
   "metadata": {},
   "outputs": [],
   "source": [
    "greet('nani','chinnu','pandu')"
   ]
  }
 ],
 "metadata": {
  "kernelspec": {
   "display_name": "Python 3 (ipykernel)",
   "language": "python",
   "name": "python3"
  },
  "language_info": {
   "codemirror_mode": {
    "name": "ipython",
    "version": 3
   },
   "file_extension": ".py",
   "mimetype": "text/x-python",
   "name": "python",
   "nbconvert_exporter": "python",
   "pygments_lexer": "ipython3",
   "version": "3.13.0"
  }
 },
 "nbformat": 4,
 "nbformat_minor": 5
}
